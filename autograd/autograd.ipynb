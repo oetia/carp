{
 "cells": [
  {
   "cell_type": "code",
   "execution_count": 20,
   "metadata": {},
   "outputs": [],
   "source": [
    "import numpy as np\n",
    "import cupy as cp\n",
    "from __future__ import annotations"
   ]
  },
  {
   "cell_type": "code",
   "execution_count": 21,
   "metadata": {},
   "outputs": [
    {
     "data": {
      "text/plain": [
       "cupy.ndarray"
      ]
     },
     "execution_count": 21,
     "metadata": {},
     "output_type": "execute_result"
    }
   ],
   "source": [
    "x_gpu = cp.array([1, 2, 3])\n",
    "x_cpu = x_gpu.get()\n",
    "type(x_cpu)\n",
    "type(x_gpu)\n",
    "\n",
    "# lets keep things on purely on the cpu for now"
   ]
  },
  {
   "cell_type": "code",
   "execution_count": 22,
   "metadata": {},
   "outputs": [],
   "source": [
    "class Tensor:\n",
    "  def __init__(self, list: list) -> None:\n",
    "    self.values = np.array(list)\n",
    "    self.grad = np.zeros_like(self.values)\n",
    "\n",
    "  def __add__(self, other: Tensor) -> Tensor:\n",
    "    new_tensor = Tensor(self.values + other.values)\n",
    "    def _backward() -> None:\n",
    "      self.grad = 1\n",
    "    new_tensor._backward += _backward\n",
    "    return new_tensor\n",
    "  \n",
    "  def __mul__(self, other: Tensor) -> Tensor:\n",
    "    new_tensor = Tensor(self.values * other.values)\n",
    "    def _backward() -> None:\n",
    "      self.grad += other.values\n",
    "    new_tensor._backward = _backward\n",
    "    return new_tensor\n",
    "  \n",
    "  def backward(self):\n",
    "    pass\n",
    "\n",
    "  def zero_grad(self):\n",
    "    self.grad = np.zeros_like(self.values)\n",
    "  \n",
    "  def __repr__(self) -> str:\n",
    "    return self.values.__repr__()"
   ]
  },
  {
   "cell_type": "code",
   "execution_count": 23,
   "metadata": {},
   "outputs": [
    {
     "data": {
      "text/plain": [
       "array([0, 0, 0])"
      ]
     },
     "execution_count": 23,
     "metadata": {},
     "output_type": "execute_result"
    }
   ],
   "source": [
    "c = Tensor([1, 2, 3]) * Tensor([2, 4, 6])\n",
    "c._backward()\n",
    "c.grad\n"
   ]
  },
  {
   "cell_type": "code",
   "execution_count": null,
   "metadata": {},
   "outputs": [],
   "source": []
  }
 ],
 "metadata": {
  "kernelspec": {
   "display_name": "Python 3",
   "language": "python",
   "name": "python3"
  },
  "language_info": {
   "codemirror_mode": {
    "name": "ipython",
    "version": 3
   },
   "file_extension": ".py",
   "mimetype": "text/x-python",
   "name": "python",
   "nbconvert_exporter": "python",
   "pygments_lexer": "ipython3",
   "version": "3.12.4"
  }
 },
 "nbformat": 4,
 "nbformat_minor": 2
}
