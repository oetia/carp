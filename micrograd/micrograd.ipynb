{
 "cells": [
  {
   "cell_type": "code",
   "execution_count": 12,
   "metadata": {},
   "outputs": [],
   "source": [
    "import types\n",
    "from __future__ import annotations"
   ]
  },
  {
   "cell_type": "code",
   "execution_count": 33,
   "metadata": {},
   "outputs": [],
   "source": [
    "# so first, have to generate new scalars from old scalars\n",
    "# first implement an add function\n",
    "\n",
    "class Node:\n",
    "\n",
    "  def __init__(self, value: float) -> None:\n",
    "    self.value = value\n",
    "    self.grad = None\n",
    "  \n",
    "  def __add__(self, other: \"Node\") -> \"Node\":\n",
    "    return Node(self.value + other.value)\n",
    "  \n",
    "  def __sub__(self, other: \"Node\") -> \"Node\":\n",
    "    return Node(self.value - other.value)\n",
    "  \n",
    "  def __mul__(self, other: \"Node\") -> \"Node\":\n",
    "    return Node(self.value * other.value)\n",
    "  \n",
    "  def backward(self) -> None:\n",
    "    self.grad = 1\n",
    "    # i think you do need a topological sort\n",
    "    # if there are nodes that are both x away from the loss node, but they have dependencies between them, this could be problematic\n",
    "\n",
    "  def __repr__(self) -> str:\n",
    "    return f\"Scalar(value={self.value})\""
   ]
  },
  {
   "cell_type": "code",
   "execution_count": 37,
   "metadata": {},
   "outputs": [
    {
     "data": {
      "text/plain": [
       "Scalar(value=40)"
      ]
     },
     "execution_count": 37,
     "metadata": {},
     "output_type": "execute_result"
    }
   ],
   "source": [
    "a = Node(3)\n",
    "b = Node(2)\n",
    "c = Node(-1)\n",
    "d = Node(4)\n",
    "e = (a * b + c) * d\n",
    "l = e + e\n",
    "l"
   ]
  },
  {
   "cell_type": "code",
   "execution_count": null,
   "metadata": {},
   "outputs": [],
   "source": []
  }
 ],
 "metadata": {
  "kernelspec": {
   "display_name": "Python 3",
   "language": "python",
   "name": "python3"
  },
  "language_info": {
   "codemirror_mode": {
    "name": "ipython",
    "version": 3
   },
   "file_extension": ".py",
   "mimetype": "text/x-python",
   "name": "python",
   "nbconvert_exporter": "python",
   "pygments_lexer": "ipython3",
   "version": "3.12.4"
  }
 },
 "nbformat": 4,
 "nbformat_minor": 2
}
